{
  "nbformat": 4,
  "nbformat_minor": 0,
  "metadata": {
    "colab": {
      "provenance": []
    },
    "kernelspec": {
      "name": "python3",
      "display_name": "Python 3"
    },
    "language_info": {
      "name": "python"
    }
  },
  "cells": [
    {
      "cell_type": "markdown",
      "source": [
        "# Mounting to Google Drive"
      ],
      "metadata": {
        "id": "60QRsTGFvuW5"
      }
    },
    {
      "cell_type": "code",
      "execution_count": 4,
      "metadata": {
        "colab": {
          "base_uri": "https://localhost:8080/"
        },
        "id": "k9HsFY_sqUj5",
        "outputId": "9e76398e-4b51-49e6-a7d1-0112be872238"
      },
      "outputs": [
        {
          "output_type": "stream",
          "name": "stdout",
          "text": [
            "Mounted at /content/drive\n"
          ]
        }
      ],
      "source": [
        "from google.colab import drive\n",
        "drive.mount('/content/drive')\n",
        "\n",
        "# Make sure your data lives inside this directory\n",
        "base_path = \"/content/drive/MyDrive/auto_analyst_data\"\n"
      ]
    },
    {
      "cell_type": "markdown",
      "source": [
        "## Downloading a few requirements"
      ],
      "metadata": {
        "id": "nMEEEwafv024"
      }
    },
    {
      "cell_type": "code",
      "source": [
        "!pip install requests beautifulsoup4 pandas"
      ],
      "metadata": {
        "colab": {
          "base_uri": "https://localhost:8080/"
        },
        "id": "Ge3jORpmrUml",
        "outputId": "672eba6b-237c-4047-b865-850c88375b0f"
      },
      "execution_count": 1,
      "outputs": [
        {
          "output_type": "stream",
          "name": "stdout",
          "text": [
            "Requirement already satisfied: requests in /usr/local/lib/python3.11/dist-packages (2.32.3)\n",
            "Requirement already satisfied: beautifulsoup4 in /usr/local/lib/python3.11/dist-packages (4.13.3)\n",
            "Requirement already satisfied: pandas in /usr/local/lib/python3.11/dist-packages (2.2.2)\n",
            "Requirement already satisfied: charset-normalizer<4,>=2 in /usr/local/lib/python3.11/dist-packages (from requests) (3.4.1)\n",
            "Requirement already satisfied: idna<4,>=2.5 in /usr/local/lib/python3.11/dist-packages (from requests) (3.10)\n",
            "Requirement already satisfied: urllib3<3,>=1.21.1 in /usr/local/lib/python3.11/dist-packages (from requests) (2.3.0)\n",
            "Requirement already satisfied: certifi>=2017.4.17 in /usr/local/lib/python3.11/dist-packages (from requests) (2025.1.31)\n",
            "Requirement already satisfied: soupsieve>1.2 in /usr/local/lib/python3.11/dist-packages (from beautifulsoup4) (2.6)\n",
            "Requirement already satisfied: typing-extensions>=4.0.0 in /usr/local/lib/python3.11/dist-packages (from beautifulsoup4) (4.13.1)\n",
            "Requirement already satisfied: numpy>=1.23.2 in /usr/local/lib/python3.11/dist-packages (from pandas) (2.0.2)\n",
            "Requirement already satisfied: python-dateutil>=2.8.2 in /usr/local/lib/python3.11/dist-packages (from pandas) (2.8.2)\n",
            "Requirement already satisfied: pytz>=2020.1 in /usr/local/lib/python3.11/dist-packages (from pandas) (2025.2)\n",
            "Requirement already satisfied: tzdata>=2022.7 in /usr/local/lib/python3.11/dist-packages (from pandas) (2025.2)\n",
            "Requirement already satisfied: six>=1.5 in /usr/local/lib/python3.11/dist-packages (from python-dateutil>=2.8.2->pandas) (1.17.0)\n"
          ]
        }
      ]
    },
    {
      "cell_type": "markdown",
      "source": [
        "# Cloning into repository"
      ],
      "metadata": {
        "id": "vfCxU3uxv47f"
      }
    },
    {
      "cell_type": "code",
      "source": [
        "!git clone https://github.com/RahulPatnaik/auto-analyst.git\n",
        "%cd auto-analyst"
      ],
      "metadata": {
        "colab": {
          "base_uri": "https://localhost:8080/"
        },
        "id": "Z_Oep1A3rVlX",
        "outputId": "fc66c10e-8103-47d2-a904-0fcbc6fd8b22"
      },
      "execution_count": 2,
      "outputs": [
        {
          "output_type": "stream",
          "name": "stdout",
          "text": [
            "Cloning into 'auto-analyst'...\n",
            "remote: Enumerating objects: 3, done.\u001b[K\n",
            "remote: Counting objects: 100% (3/3), done.\u001b[K\n",
            "remote: Compressing objects: 100% (2/2), done.\u001b[K\n",
            "remote: Total 3 (delta 0), reused 0 (delta 0), pack-reused 0 (from 0)\u001b[K\n",
            "Receiving objects: 100% (3/3), 4.71 KiB | 4.71 MiB/s, done.\n",
            "/content/auto-analyst\n"
          ]
        }
      ]
    },
    {
      "cell_type": "markdown",
      "source": [
        "# Scraping from WIKIPEDIA\n"
      ],
      "metadata": {
        "id": "kx8iK502wFi5"
      }
    },
    {
      "cell_type": "code",
      "source": [
        "import requests\n",
        "from bs4 import BeautifulSoup\n",
        "import json\n",
        "import os\n",
        "\n",
        "def get_wikipedia_summary(company, save_dir):\n",
        "    url = f\"https://en.wikipedia.org/wiki/{company.replace(' ', '_')}\"\n",
        "    resp = requests.get(url)\n",
        "    soup = BeautifulSoup(resp.content, 'html.parser')\n",
        "\n",
        "    paragraphs = soup.select('p')\n",
        "    summary = ''\n",
        "    for p in paragraphs:\n",
        "        if p.text.strip():\n",
        "            summary = p.text.strip()\n",
        "            break\n",
        "\n",
        "    data = {\n",
        "        \"company\": company,\n",
        "        \"source\": url,\n",
        "        \"summary\": summary\n",
        "    }\n",
        "\n",
        "    os.makedirs(save_dir, exist_ok=True)\n",
        "    with open(os.path.join(save_dir, f\"{company}.json\"), 'w') as f:\n",
        "        json.dump(data, f, indent=2)\n",
        "\n",
        "    print(f\"[✓] Saved summary for {company}\")\n",
        "\n",
        "# Example usage:\n",
        "# get_wikipedia_summary(\"OpenAI\", \"/content/drive/MyDrive/auto_analyst_data/raw/wikipedia\")"
      ],
      "metadata": {
        "id": "w1ZF1PnGrg0V"
      },
      "execution_count": 3,
      "outputs": []
    },
    {
      "cell_type": "code",
      "source": [
        "\n",
        "get_wikipedia_summary(\"OpenAI\", \"/content/drive/MyDrive/auto_analyst_data/raw/wikipedia\")"
      ],
      "metadata": {
        "colab": {
          "base_uri": "https://localhost:8080/"
        },
        "id": "soiXkDLSrmSx",
        "outputId": "de85dc8a-60e4-4570-e3a5-7b52550f1184"
      },
      "execution_count": 6,
      "outputs": [
        {
          "output_type": "stream",
          "name": "stdout",
          "text": [
            "[✓] Saved summary for OpenAI\n"
          ]
        }
      ]
    },
    {
      "cell_type": "code",
      "source": [
        "\n",
        "get_wikipedia_summary(\"Meta\", \"/content/drive/MyDrive/auto_analyst_data/raw/wikipedia\")"
      ],
      "metadata": {
        "colab": {
          "base_uri": "https://localhost:8080/"
        },
        "id": "fVeBoxBIsSIF",
        "outputId": "4419ad35-04b8-4e11-b17d-47e7b42ccdb1"
      },
      "execution_count": 7,
      "outputs": [
        {
          "output_type": "stream",
          "name": "stdout",
          "text": [
            "[✓] Saved summary for Meta\n"
          ]
        }
      ]
    },
    {
      "cell_type": "code",
      "source": [
        "\n",
        "get_wikipedia_summary(\"Google\", \"/content/drive/MyDrive/auto_analyst_data/raw/wikipedia\")"
      ],
      "metadata": {
        "colab": {
          "base_uri": "https://localhost:8080/"
        },
        "id": "CNZD4U7zsxqk",
        "outputId": "d2adc218-3708-4b53-e3f8-543d04a0881c"
      },
      "execution_count": 8,
      "outputs": [
        {
          "output_type": "stream",
          "name": "stdout",
          "text": [
            "[✓] Saved summary for Google\n"
          ]
        }
      ]
    },
    {
      "cell_type": "markdown",
      "source": [
        " # Scraping from GOOGLENEWS"
      ],
      "metadata": {
        "id": "D7bAqA9MwKV7"
      }
    },
    {
      "cell_type": "code",
      "source": [
        "!pip install gnews"
      ],
      "metadata": {
        "colab": {
          "base_uri": "https://localhost:8080/"
        },
        "id": "I4T_YC6NxBud",
        "outputId": "328df9cf-479d-4771-e1b3-f7506f403c95"
      },
      "execution_count": 20,
      "outputs": [
        {
          "output_type": "stream",
          "name": "stdout",
          "text": [
            "Collecting gnews\n",
            "  Downloading gnews-0.4.1-py3-none-any.whl.metadata (19 kB)\n",
            "Collecting feedparser~=6.0.2 (from gnews)\n",
            "  Downloading feedparser-6.0.11-py3-none-any.whl.metadata (2.4 kB)\n",
            "Requirement already satisfied: beautifulsoup4<5,>=4.9.3 in /usr/local/lib/python3.11/dist-packages (from gnews) (4.13.3)\n",
            "Collecting dnspython (from gnews)\n",
            "  Downloading dnspython-2.7.0-py3-none-any.whl.metadata (5.8 kB)\n",
            "Requirement already satisfied: requests in /usr/local/lib/python3.11/dist-packages (from gnews) (2.32.3)\n",
            "Requirement already satisfied: soupsieve>1.2 in /usr/local/lib/python3.11/dist-packages (from beautifulsoup4<5,>=4.9.3->gnews) (2.6)\n",
            "Requirement already satisfied: typing-extensions>=4.0.0 in /usr/local/lib/python3.11/dist-packages (from beautifulsoup4<5,>=4.9.3->gnews) (4.13.1)\n",
            "Collecting sgmllib3k (from feedparser~=6.0.2->gnews)\n",
            "  Downloading sgmllib3k-1.0.0.tar.gz (5.8 kB)\n",
            "  Preparing metadata (setup.py) ... \u001b[?25l\u001b[?25hdone\n",
            "Requirement already satisfied: charset-normalizer<4,>=2 in /usr/local/lib/python3.11/dist-packages (from requests->gnews) (3.4.1)\n",
            "Requirement already satisfied: idna<4,>=2.5 in /usr/local/lib/python3.11/dist-packages (from requests->gnews) (3.10)\n",
            "Requirement already satisfied: urllib3<3,>=1.21.1 in /usr/local/lib/python3.11/dist-packages (from requests->gnews) (2.3.0)\n",
            "Requirement already satisfied: certifi>=2017.4.17 in /usr/local/lib/python3.11/dist-packages (from requests->gnews) (2025.1.31)\n",
            "Downloading gnews-0.4.1-py3-none-any.whl (18 kB)\n",
            "Downloading feedparser-6.0.11-py3-none-any.whl (81 kB)\n",
            "\u001b[2K   \u001b[90m━━━━━━━━━━━━━━━━━━━━━━━━━━━━━━━━━━━━━━━━\u001b[0m \u001b[32m81.3/81.3 kB\u001b[0m \u001b[31m3.1 MB/s\u001b[0m eta \u001b[36m0:00:00\u001b[0m\n",
            "\u001b[?25hDownloading dnspython-2.7.0-py3-none-any.whl (313 kB)\n",
            "\u001b[2K   \u001b[90m━━━━━━━━━━━━━━━━━━━━━━━━━━━━━━━━━━━━━━━━\u001b[0m \u001b[32m313.6/313.6 kB\u001b[0m \u001b[31m12.2 MB/s\u001b[0m eta \u001b[36m0:00:00\u001b[0m\n",
            "\u001b[?25hBuilding wheels for collected packages: sgmllib3k\n",
            "  Building wheel for sgmllib3k (setup.py) ... \u001b[?25l\u001b[?25hdone\n",
            "  Created wheel for sgmllib3k: filename=sgmllib3k-1.0.0-py3-none-any.whl size=6046 sha256=54016a290e0a2bfa3f9a1f0f6bac66d2bdf8514db5fdc3a4d847f976ad81512f\n",
            "  Stored in directory: /root/.cache/pip/wheels/3b/25/2a/105d6a15df6914f4d15047691c6c28f9052cc1173e40285d03\n",
            "Successfully built sgmllib3k\n",
            "Installing collected packages: sgmllib3k, feedparser, dnspython, gnews\n",
            "Successfully installed dnspython-2.7.0 feedparser-6.0.11 gnews-0.4.1 sgmllib3k-1.0.0\n"
          ]
        }
      ]
    },
    {
      "cell_type": "code",
      "source": [
        "from gnews import GNews\n",
        "import json, os\n",
        "\n",
        "def get_news(company, save_dir):\n",
        "    google_news = GNews(language='en', country='US', max_results=10)\n",
        "    news = google_news.get_news(company)\n",
        "\n",
        "    os.makedirs(save_dir, exist_ok=True)\n",
        "    with open(os.path.join(save_dir, f\"{company}.json\"), 'w') as f:\n",
        "        json.dump(news, f, indent=2)\n",
        "\n",
        "    print(f\"[✓] Saved news for {company}\")\n",
        "\n",
        "# Example:\n",
        "# get_news(\"OpenAI\", \"/content/drive/MyDrive/auto_analyst_data/raw/news\")\n"
      ],
      "metadata": {
        "id": "mebdcNSjszvH"
      },
      "execution_count": 21,
      "outputs": []
    },
    {
      "cell_type": "code",
      "source": [
        "get_news(\"OpenAI\", \"/content/drive/MyDrive/auto_analyst_data/raw/news\")"
      ],
      "metadata": {
        "colab": {
          "base_uri": "https://localhost:8080/"
        },
        "id": "gEFLbnSltag1",
        "outputId": "991983c0-9a4f-4080-8b6b-1166919198b5"
      },
      "execution_count": 22,
      "outputs": [
        {
          "output_type": "stream",
          "name": "stdout",
          "text": [
            "[✓] Saved news for OpenAI\n"
          ]
        }
      ]
    },
    {
      "cell_type": "code",
      "source": [
        "get_news(\"Meta\", \"/content/drive/MyDrive/auto_analyst_data/raw/news\")"
      ],
      "metadata": {
        "colab": {
          "base_uri": "https://localhost:8080/"
        },
        "id": "GntrUT7UuR85",
        "outputId": "66c35c59-1eb7-4516-d8bd-3a5f35b3975f"
      },
      "execution_count": 23,
      "outputs": [
        {
          "output_type": "stream",
          "name": "stdout",
          "text": [
            "[✓] Saved news for Meta\n"
          ]
        }
      ]
    },
    {
      "cell_type": "code",
      "source": [
        "get_news(\"Google\", \"/content/drive/MyDrive/auto_analyst_data/raw/news\")"
      ],
      "metadata": {
        "colab": {
          "base_uri": "https://localhost:8080/"
        },
        "id": "2vSa5jmXuUO_",
        "outputId": "4f99716a-e31e-46d4-b48e-9fe67cd2d003"
      },
      "execution_count": 24,
      "outputs": [
        {
          "output_type": "stream",
          "name": "stdout",
          "text": [
            "[✓] Saved news for Google\n"
          ]
        }
      ]
    },
    {
      "cell_type": "markdown",
      "source": [
        "# Scraping from reviews websites\n"
      ],
      "metadata": {
        "id": "oVioJzxmwRjS"
      }
    },
    {
      "cell_type": "code",
      "source": [
        "import kagglehub\n",
        "\n",
        "# Download Glassdoor Reviews dataset\n",
        "path = kagglehub.dataset_download(\"davidgauthier/glassdoor-job-reviews\")\n",
        "print(\"✅ Dataset downloaded to:\", path)"
      ],
      "metadata": {
        "colab": {
          "base_uri": "https://localhost:8080/"
        },
        "id": "8s_YnCBVxxg8",
        "outputId": "491e372e-6c85-4be2-a6b1-1f086537bd82"
      },
      "execution_count": 25,
      "outputs": [
        {
          "output_type": "stream",
          "name": "stdout",
          "text": [
            "Downloading from https://www.kaggle.com/api/v1/datasets/download/davidgauthier/glassdoor-job-reviews?dataset_version_number=11...\n"
          ]
        },
        {
          "output_type": "stream",
          "name": "stderr",
          "text": [
            "100%|██████████| 83.9M/83.9M [00:00<00:00, 155MB/s]"
          ]
        },
        {
          "output_type": "stream",
          "name": "stdout",
          "text": [
            "Extracting files...\n"
          ]
        },
        {
          "output_type": "stream",
          "name": "stderr",
          "text": [
            "\n"
          ]
        },
        {
          "output_type": "stream",
          "name": "stdout",
          "text": [
            "✅ Dataset downloaded to: /root/.cache/kagglehub/datasets/davidgauthier/glassdoor-job-reviews/versions/11\n"
          ]
        }
      ]
    },
    {
      "cell_type": "code",
      "source": [
        "import shutil\n",
        "import os\n",
        "\n",
        "drive_path = \"/content/drive/MyDrive/auto_analyst_data/raw/reviews\"\n",
        "\n",
        "# Create directory if it doesn't exist\n",
        "os.makedirs(drive_path, exist_ok=True)\n",
        "\n",
        "# Copy all files from kagglehub to Drive\n",
        "for file in os.listdir(path):\n",
        "    full_src = os.path.join(path, file)\n",
        "    full_dst = os.path.join(drive_path, file)\n",
        "    shutil.copy(full_src, full_dst)\n",
        "\n",
        "print(\"✅ Files copied to Google Drive:\", drive_path)\n"
      ],
      "metadata": {
        "colab": {
          "base_uri": "https://localhost:8080/"
        },
        "id": "XVFEX-iex1oR",
        "outputId": "35f72411-45e2-4c97-9eed-db824e5a72d8"
      },
      "execution_count": 26,
      "outputs": [
        {
          "output_type": "stream",
          "name": "stdout",
          "text": [
            "✅ Files copied to Google Drive: /content/drive/MyDrive/auto_analyst_data/raw/reviews\n"
          ]
        }
      ]
    },
    {
      "cell_type": "code",
      "source": [
        "df = pd.read_csv('/content/drive/MyDrive/auto_analyst_data/raw/reviews/glassdoor_reviews.csv')"
      ],
      "metadata": {
        "id": "ERvQ46p3y9bp"
      },
      "execution_count": 30,
      "outputs": []
    },
    {
      "cell_type": "code",
      "source": [
        "df.head()"
      ],
      "metadata": {
        "colab": {
          "base_uri": "https://localhost:8080/",
          "height": 591
        },
        "id": "HrvEqCtNzEd4",
        "outputId": "39be1b18-7c25-42ea-b6b0-365478235f5b"
      },
      "execution_count": 31,
      "outputs": [
        {
          "output_type": "execute_result",
          "data": {
            "text/plain": [
              "                    firm date_review              job_title  \\\n",
              "0  AFH-Wealth-Management  2015-04-05                          \n",
              "1  AFH-Wealth-Management  2015-12-11   Office Administrator   \n",
              "2  AFH-Wealth-Management  2016-01-28   Office Administrator   \n",
              "3  AFH-Wealth-Management  2016-04-16                          \n",
              "4  AFH-Wealth-Management  2016-04-23   Office Administrator   \n",
              "\n",
              "                              current                      location  \\\n",
              "0                    Current Employee                           NaN   \n",
              "1  Current Employee, more than 1 year  Bromsgrove, England, England   \n",
              "2  Current Employee, less than 1 year  Bromsgrove, England, England   \n",
              "3                    Current Employee                           NaN   \n",
              "4  Current Employee, more than 1 year  Bromsgrove, England, England   \n",
              "\n",
              "   overall_rating  work_life_balance  culture_values  diversity_inclusion  \\\n",
              "0               2                4.0             3.0                  NaN   \n",
              "1               2                3.0             1.0                  NaN   \n",
              "2               1                1.0             1.0                  NaN   \n",
              "3               5                2.0             3.0                  NaN   \n",
              "4               1                2.0             1.0                  NaN   \n",
              "\n",
              "   career_opp  comp_benefits  senior_mgmt recommend ceo_approv outlook  \\\n",
              "0         2.0            3.0          3.0         x          o       r   \n",
              "1         2.0            1.0          4.0         x          o       r   \n",
              "2         1.0            1.0          1.0         x          o       x   \n",
              "3         2.0            2.0          3.0         x          o       r   \n",
              "4         2.0            1.0          1.0         x          o       x   \n",
              "\n",
              "                                  headline  \\\n",
              "0  Young colleagues, poor micro management   \n",
              "1             Excellent staff, poor salary   \n",
              "2          Low salary, bad micromanagement   \n",
              "3            Over promised under delivered   \n",
              "4                   client reporting admin   \n",
              "\n",
              "                                                pros  \\\n",
              "0  Very friendly and welcoming to new staff. Easy...   \n",
              "1      Friendly, helpful and hard-working colleagues   \n",
              "2  Easy to get the job even without experience in...   \n",
              "3                            Nice staff to work with   \n",
              "4              Easy to get the job, Nice colleagues.   \n",
              "\n",
              "                                                cons  \n",
              "0    Poor salaries, poor training and communication.  \n",
              "1  Poor salary which doesn't improve much with pr...  \n",
              "2  Very low salary, poor working conditions, very...  \n",
              "3           No career progression and salary is poor  \n",
              "4  Abysmal pay, around minimum wage. No actual tr...  "
            ],
            "text/html": [
              "\n",
              "  <div id=\"df-958df4f8-edbe-4769-a966-c2a47e4ccd1b\" class=\"colab-df-container\">\n",
              "    <div>\n",
              "<style scoped>\n",
              "    .dataframe tbody tr th:only-of-type {\n",
              "        vertical-align: middle;\n",
              "    }\n",
              "\n",
              "    .dataframe tbody tr th {\n",
              "        vertical-align: top;\n",
              "    }\n",
              "\n",
              "    .dataframe thead th {\n",
              "        text-align: right;\n",
              "    }\n",
              "</style>\n",
              "<table border=\"1\" class=\"dataframe\">\n",
              "  <thead>\n",
              "    <tr style=\"text-align: right;\">\n",
              "      <th></th>\n",
              "      <th>firm</th>\n",
              "      <th>date_review</th>\n",
              "      <th>job_title</th>\n",
              "      <th>current</th>\n",
              "      <th>location</th>\n",
              "      <th>overall_rating</th>\n",
              "      <th>work_life_balance</th>\n",
              "      <th>culture_values</th>\n",
              "      <th>diversity_inclusion</th>\n",
              "      <th>career_opp</th>\n",
              "      <th>comp_benefits</th>\n",
              "      <th>senior_mgmt</th>\n",
              "      <th>recommend</th>\n",
              "      <th>ceo_approv</th>\n",
              "      <th>outlook</th>\n",
              "      <th>headline</th>\n",
              "      <th>pros</th>\n",
              "      <th>cons</th>\n",
              "    </tr>\n",
              "  </thead>\n",
              "  <tbody>\n",
              "    <tr>\n",
              "      <th>0</th>\n",
              "      <td>AFH-Wealth-Management</td>\n",
              "      <td>2015-04-05</td>\n",
              "      <td></td>\n",
              "      <td>Current Employee</td>\n",
              "      <td>NaN</td>\n",
              "      <td>2</td>\n",
              "      <td>4.0</td>\n",
              "      <td>3.0</td>\n",
              "      <td>NaN</td>\n",
              "      <td>2.0</td>\n",
              "      <td>3.0</td>\n",
              "      <td>3.0</td>\n",
              "      <td>x</td>\n",
              "      <td>o</td>\n",
              "      <td>r</td>\n",
              "      <td>Young colleagues, poor micro management</td>\n",
              "      <td>Very friendly and welcoming to new staff. Easy...</td>\n",
              "      <td>Poor salaries, poor training and communication.</td>\n",
              "    </tr>\n",
              "    <tr>\n",
              "      <th>1</th>\n",
              "      <td>AFH-Wealth-Management</td>\n",
              "      <td>2015-12-11</td>\n",
              "      <td>Office Administrator</td>\n",
              "      <td>Current Employee, more than 1 year</td>\n",
              "      <td>Bromsgrove, England, England</td>\n",
              "      <td>2</td>\n",
              "      <td>3.0</td>\n",
              "      <td>1.0</td>\n",
              "      <td>NaN</td>\n",
              "      <td>2.0</td>\n",
              "      <td>1.0</td>\n",
              "      <td>4.0</td>\n",
              "      <td>x</td>\n",
              "      <td>o</td>\n",
              "      <td>r</td>\n",
              "      <td>Excellent staff, poor salary</td>\n",
              "      <td>Friendly, helpful and hard-working colleagues</td>\n",
              "      <td>Poor salary which doesn't improve much with pr...</td>\n",
              "    </tr>\n",
              "    <tr>\n",
              "      <th>2</th>\n",
              "      <td>AFH-Wealth-Management</td>\n",
              "      <td>2016-01-28</td>\n",
              "      <td>Office Administrator</td>\n",
              "      <td>Current Employee, less than 1 year</td>\n",
              "      <td>Bromsgrove, England, England</td>\n",
              "      <td>1</td>\n",
              "      <td>1.0</td>\n",
              "      <td>1.0</td>\n",
              "      <td>NaN</td>\n",
              "      <td>1.0</td>\n",
              "      <td>1.0</td>\n",
              "      <td>1.0</td>\n",
              "      <td>x</td>\n",
              "      <td>o</td>\n",
              "      <td>x</td>\n",
              "      <td>Low salary, bad micromanagement</td>\n",
              "      <td>Easy to get the job even without experience in...</td>\n",
              "      <td>Very low salary, poor working conditions, very...</td>\n",
              "    </tr>\n",
              "    <tr>\n",
              "      <th>3</th>\n",
              "      <td>AFH-Wealth-Management</td>\n",
              "      <td>2016-04-16</td>\n",
              "      <td></td>\n",
              "      <td>Current Employee</td>\n",
              "      <td>NaN</td>\n",
              "      <td>5</td>\n",
              "      <td>2.0</td>\n",
              "      <td>3.0</td>\n",
              "      <td>NaN</td>\n",
              "      <td>2.0</td>\n",
              "      <td>2.0</td>\n",
              "      <td>3.0</td>\n",
              "      <td>x</td>\n",
              "      <td>o</td>\n",
              "      <td>r</td>\n",
              "      <td>Over promised under delivered</td>\n",
              "      <td>Nice staff to work with</td>\n",
              "      <td>No career progression and salary is poor</td>\n",
              "    </tr>\n",
              "    <tr>\n",
              "      <th>4</th>\n",
              "      <td>AFH-Wealth-Management</td>\n",
              "      <td>2016-04-23</td>\n",
              "      <td>Office Administrator</td>\n",
              "      <td>Current Employee, more than 1 year</td>\n",
              "      <td>Bromsgrove, England, England</td>\n",
              "      <td>1</td>\n",
              "      <td>2.0</td>\n",
              "      <td>1.0</td>\n",
              "      <td>NaN</td>\n",
              "      <td>2.0</td>\n",
              "      <td>1.0</td>\n",
              "      <td>1.0</td>\n",
              "      <td>x</td>\n",
              "      <td>o</td>\n",
              "      <td>x</td>\n",
              "      <td>client reporting admin</td>\n",
              "      <td>Easy to get the job, Nice colleagues.</td>\n",
              "      <td>Abysmal pay, around minimum wage. No actual tr...</td>\n",
              "    </tr>\n",
              "  </tbody>\n",
              "</table>\n",
              "</div>\n",
              "    <div class=\"colab-df-buttons\">\n",
              "\n",
              "  <div class=\"colab-df-container\">\n",
              "    <button class=\"colab-df-convert\" onclick=\"convertToInteractive('df-958df4f8-edbe-4769-a966-c2a47e4ccd1b')\"\n",
              "            title=\"Convert this dataframe to an interactive table.\"\n",
              "            style=\"display:none;\">\n",
              "\n",
              "  <svg xmlns=\"http://www.w3.org/2000/svg\" height=\"24px\" viewBox=\"0 -960 960 960\">\n",
              "    <path d=\"M120-120v-720h720v720H120Zm60-500h600v-160H180v160Zm220 220h160v-160H400v160Zm0 220h160v-160H400v160ZM180-400h160v-160H180v160Zm440 0h160v-160H620v160ZM180-180h160v-160H180v160Zm440 0h160v-160H620v160Z\"/>\n",
              "  </svg>\n",
              "    </button>\n",
              "\n",
              "  <style>\n",
              "    .colab-df-container {\n",
              "      display:flex;\n",
              "      gap: 12px;\n",
              "    }\n",
              "\n",
              "    .colab-df-convert {\n",
              "      background-color: #E8F0FE;\n",
              "      border: none;\n",
              "      border-radius: 50%;\n",
              "      cursor: pointer;\n",
              "      display: none;\n",
              "      fill: #1967D2;\n",
              "      height: 32px;\n",
              "      padding: 0 0 0 0;\n",
              "      width: 32px;\n",
              "    }\n",
              "\n",
              "    .colab-df-convert:hover {\n",
              "      background-color: #E2EBFA;\n",
              "      box-shadow: 0px 1px 2px rgba(60, 64, 67, 0.3), 0px 1px 3px 1px rgba(60, 64, 67, 0.15);\n",
              "      fill: #174EA6;\n",
              "    }\n",
              "\n",
              "    .colab-df-buttons div {\n",
              "      margin-bottom: 4px;\n",
              "    }\n",
              "\n",
              "    [theme=dark] .colab-df-convert {\n",
              "      background-color: #3B4455;\n",
              "      fill: #D2E3FC;\n",
              "    }\n",
              "\n",
              "    [theme=dark] .colab-df-convert:hover {\n",
              "      background-color: #434B5C;\n",
              "      box-shadow: 0px 1px 3px 1px rgba(0, 0, 0, 0.15);\n",
              "      filter: drop-shadow(0px 1px 2px rgba(0, 0, 0, 0.3));\n",
              "      fill: #FFFFFF;\n",
              "    }\n",
              "  </style>\n",
              "\n",
              "    <script>\n",
              "      const buttonEl =\n",
              "        document.querySelector('#df-958df4f8-edbe-4769-a966-c2a47e4ccd1b button.colab-df-convert');\n",
              "      buttonEl.style.display =\n",
              "        google.colab.kernel.accessAllowed ? 'block' : 'none';\n",
              "\n",
              "      async function convertToInteractive(key) {\n",
              "        const element = document.querySelector('#df-958df4f8-edbe-4769-a966-c2a47e4ccd1b');\n",
              "        const dataTable =\n",
              "          await google.colab.kernel.invokeFunction('convertToInteractive',\n",
              "                                                    [key], {});\n",
              "        if (!dataTable) return;\n",
              "\n",
              "        const docLinkHtml = 'Like what you see? Visit the ' +\n",
              "          '<a target=\"_blank\" href=https://colab.research.google.com/notebooks/data_table.ipynb>data table notebook</a>'\n",
              "          + ' to learn more about interactive tables.';\n",
              "        element.innerHTML = '';\n",
              "        dataTable['output_type'] = 'display_data';\n",
              "        await google.colab.output.renderOutput(dataTable, element);\n",
              "        const docLink = document.createElement('div');\n",
              "        docLink.innerHTML = docLinkHtml;\n",
              "        element.appendChild(docLink);\n",
              "      }\n",
              "    </script>\n",
              "  </div>\n",
              "\n",
              "\n",
              "<div id=\"df-6928ae35-a615-4848-8bba-8f98403f68e7\">\n",
              "  <button class=\"colab-df-quickchart\" onclick=\"quickchart('df-6928ae35-a615-4848-8bba-8f98403f68e7')\"\n",
              "            title=\"Suggest charts\"\n",
              "            style=\"display:none;\">\n",
              "\n",
              "<svg xmlns=\"http://www.w3.org/2000/svg\" height=\"24px\"viewBox=\"0 0 24 24\"\n",
              "     width=\"24px\">\n",
              "    <g>\n",
              "        <path d=\"M19 3H5c-1.1 0-2 .9-2 2v14c0 1.1.9 2 2 2h14c1.1 0 2-.9 2-2V5c0-1.1-.9-2-2-2zM9 17H7v-7h2v7zm4 0h-2V7h2v10zm4 0h-2v-4h2v4z\"/>\n",
              "    </g>\n",
              "</svg>\n",
              "  </button>\n",
              "\n",
              "<style>\n",
              "  .colab-df-quickchart {\n",
              "      --bg-color: #E8F0FE;\n",
              "      --fill-color: #1967D2;\n",
              "      --hover-bg-color: #E2EBFA;\n",
              "      --hover-fill-color: #174EA6;\n",
              "      --disabled-fill-color: #AAA;\n",
              "      --disabled-bg-color: #DDD;\n",
              "  }\n",
              "\n",
              "  [theme=dark] .colab-df-quickchart {\n",
              "      --bg-color: #3B4455;\n",
              "      --fill-color: #D2E3FC;\n",
              "      --hover-bg-color: #434B5C;\n",
              "      --hover-fill-color: #FFFFFF;\n",
              "      --disabled-bg-color: #3B4455;\n",
              "      --disabled-fill-color: #666;\n",
              "  }\n",
              "\n",
              "  .colab-df-quickchart {\n",
              "    background-color: var(--bg-color);\n",
              "    border: none;\n",
              "    border-radius: 50%;\n",
              "    cursor: pointer;\n",
              "    display: none;\n",
              "    fill: var(--fill-color);\n",
              "    height: 32px;\n",
              "    padding: 0;\n",
              "    width: 32px;\n",
              "  }\n",
              "\n",
              "  .colab-df-quickchart:hover {\n",
              "    background-color: var(--hover-bg-color);\n",
              "    box-shadow: 0 1px 2px rgba(60, 64, 67, 0.3), 0 1px 3px 1px rgba(60, 64, 67, 0.15);\n",
              "    fill: var(--button-hover-fill-color);\n",
              "  }\n",
              "\n",
              "  .colab-df-quickchart-complete:disabled,\n",
              "  .colab-df-quickchart-complete:disabled:hover {\n",
              "    background-color: var(--disabled-bg-color);\n",
              "    fill: var(--disabled-fill-color);\n",
              "    box-shadow: none;\n",
              "  }\n",
              "\n",
              "  .colab-df-spinner {\n",
              "    border: 2px solid var(--fill-color);\n",
              "    border-color: transparent;\n",
              "    border-bottom-color: var(--fill-color);\n",
              "    animation:\n",
              "      spin 1s steps(1) infinite;\n",
              "  }\n",
              "\n",
              "  @keyframes spin {\n",
              "    0% {\n",
              "      border-color: transparent;\n",
              "      border-bottom-color: var(--fill-color);\n",
              "      border-left-color: var(--fill-color);\n",
              "    }\n",
              "    20% {\n",
              "      border-color: transparent;\n",
              "      border-left-color: var(--fill-color);\n",
              "      border-top-color: var(--fill-color);\n",
              "    }\n",
              "    30% {\n",
              "      border-color: transparent;\n",
              "      border-left-color: var(--fill-color);\n",
              "      border-top-color: var(--fill-color);\n",
              "      border-right-color: var(--fill-color);\n",
              "    }\n",
              "    40% {\n",
              "      border-color: transparent;\n",
              "      border-right-color: var(--fill-color);\n",
              "      border-top-color: var(--fill-color);\n",
              "    }\n",
              "    60% {\n",
              "      border-color: transparent;\n",
              "      border-right-color: var(--fill-color);\n",
              "    }\n",
              "    80% {\n",
              "      border-color: transparent;\n",
              "      border-right-color: var(--fill-color);\n",
              "      border-bottom-color: var(--fill-color);\n",
              "    }\n",
              "    90% {\n",
              "      border-color: transparent;\n",
              "      border-bottom-color: var(--fill-color);\n",
              "    }\n",
              "  }\n",
              "</style>\n",
              "\n",
              "  <script>\n",
              "    async function quickchart(key) {\n",
              "      const quickchartButtonEl =\n",
              "        document.querySelector('#' + key + ' button');\n",
              "      quickchartButtonEl.disabled = true;  // To prevent multiple clicks.\n",
              "      quickchartButtonEl.classList.add('colab-df-spinner');\n",
              "      try {\n",
              "        const charts = await google.colab.kernel.invokeFunction(\n",
              "            'suggestCharts', [key], {});\n",
              "      } catch (error) {\n",
              "        console.error('Error during call to suggestCharts:', error);\n",
              "      }\n",
              "      quickchartButtonEl.classList.remove('colab-df-spinner');\n",
              "      quickchartButtonEl.classList.add('colab-df-quickchart-complete');\n",
              "    }\n",
              "    (() => {\n",
              "      let quickchartButtonEl =\n",
              "        document.querySelector('#df-6928ae35-a615-4848-8bba-8f98403f68e7 button');\n",
              "      quickchartButtonEl.style.display =\n",
              "        google.colab.kernel.accessAllowed ? 'block' : 'none';\n",
              "    })();\n",
              "  </script>\n",
              "</div>\n",
              "\n",
              "    </div>\n",
              "  </div>\n"
            ],
            "application/vnd.google.colaboratory.intrinsic+json": {
              "type": "dataframe",
              "variable_name": "df"
            }
          },
          "metadata": {},
          "execution_count": 31
        }
      ]
    },
    {
      "cell_type": "code",
      "source": [
        "unique_firms = df['firm'].dropna().unique()\n",
        "print(f\"Total unique firms: {len(unique_firms)}\")\n",
        "print(unique_firms[:20])  # Show first 20 firm names\n"
      ],
      "metadata": {
        "colab": {
          "base_uri": "https://localhost:8080/"
        },
        "id": "EhEEpBkezx5f",
        "outputId": "0b9c4e89-0aa1-4285-c757-7d6fb2f96e9c"
      },
      "execution_count": 37,
      "outputs": [
        {
          "output_type": "stream",
          "name": "stdout",
          "text": [
            "Total unique firms: 428\n",
            "['AFH-Wealth-Management' 'AJ-Bell' 'ALDI' 'AQA' 'ASDA' 'ASOS' 'AXA-UK'\n",
            " 'Abcam' 'Abertawe-Bro-Morgannwg-University-Health-Board' 'Accenture'\n",
            " 'Accor' 'Achieving-for-Children' 'ActionCOACH' 'Active-Care-Group'\n",
            " 'Adecco' 'Age-UK-The-National-Charity' 'AlixPartners' 'American-Express'\n",
            " 'Amey' 'Angard-Staffing']\n"
          ]
        }
      ]
    },
    {
      "cell_type": "code",
      "source": [
        "import pandas as pd\n",
        "import json\n",
        "import os\n",
        "\n",
        "def extract_reviews(csv_path, company_name, save_to_dir):\n",
        "    df = pd.read_csv(csv_path)\n",
        "\n",
        "    # Filter by firm name (not \"Company Name\" like before)\n",
        "    matches = df[df['firm'].str.contains(company_name, case=False, na=False)]\n",
        "\n",
        "    if matches.empty:\n",
        "        print(\"❌ No reviews found for\", company_name)\n",
        "        return\n",
        "\n",
        "    # Drop rows without 'pros' or 'cons'\n",
        "    reviews = matches[['job_title', 'pros', 'cons']].dropna()\n",
        "\n",
        "    # Merge pros + cons into single content\n",
        "    review_data = [\n",
        "        {\n",
        "            \"title\": row['job_title'] if pd.notna(row['job_title']) else \"N/A\",\n",
        "            \"content\": f\"Pros: {row['pros']} | Cons: {row['cons']}\"\n",
        "        }\n",
        "        for _, row in reviews.iterrows()\n",
        "    ]\n",
        "\n",
        "    os.makedirs(save_to_dir, exist_ok=True)\n",
        "    out_path = os.path.join(save_to_dir, f\"{company_name}.json\")\n",
        "\n",
        "    with open(out_path, \"w\") as f:\n",
        "        json.dump(review_data, f, indent=2)\n",
        "\n",
        "    print(f\"[✓] Extracted {len(review_data)} reviews for '{company_name}' and saved to {out_path}\")\n"
      ],
      "metadata": {
        "id": "cTyVB2LQvTvB"
      },
      "execution_count": 32,
      "outputs": []
    },
    {
      "cell_type": "code",
      "source": [
        "extract_reviews(\n",
        "    \"/content/drive/MyDrive/auto_analyst_data/raw/reviews/glassdoor_reviews.csv\",\n",
        "    \"Google\",\n",
        "    \"/content/drive/MyDrive/auto_analyst_data/parsed/reviews\"\n",
        ")\n"
      ],
      "metadata": {
        "colab": {
          "base_uri": "https://localhost:8080/"
        },
        "id": "HV9c5jAEvX9v",
        "outputId": "2d4f8766-ee35-498b-abd5-28ac668e0db5"
      },
      "execution_count": 33,
      "outputs": [
        {
          "output_type": "stream",
          "name": "stdout",
          "text": [
            "[✓] Extracted 15995 reviews for 'Google' and saved to /content/drive/MyDrive/auto_analyst_data/parsed/reviews/Google.json\n"
          ]
        }
      ]
    },
    {
      "cell_type": "code",
      "source": [
        "extract_reviews(\n",
        "    \"/content/drive/MyDrive/auto_analyst_data/raw/reviews/glassdoor_reviews.csv\",\n",
        "    \"OpenAI\",\n",
        "    \"/content/drive/MyDrive/auto_analyst_data/parsed/reviews\"\n",
        ")\n"
      ],
      "metadata": {
        "colab": {
          "base_uri": "https://localhost:8080/"
        },
        "id": "CgQ8r8Fzvadx",
        "outputId": "e8a61a83-9ef8-40e3-a8c2-5d3e75cfba7d"
      },
      "execution_count": 34,
      "outputs": [
        {
          "output_type": "stream",
          "name": "stdout",
          "text": [
            "❌ No reviews found for OpenAI\n"
          ]
        }
      ]
    },
    {
      "cell_type": "code",
      "source": [
        "extract_reviews(\n",
        "    \"/content/drive/MyDrive/auto_analyst_data/raw/reviews/glassdoor_reviews.csv\",\n",
        "    \"meta\",\n",
        "    \"/content/drive/MyDrive/auto_analyst_data/parsed/reviews\"\n",
        ")\n"
      ],
      "metadata": {
        "colab": {
          "base_uri": "https://localhost:8080/"
        },
        "id": "yqPbFAPPvd0h",
        "outputId": "f6f5d02b-7c41-42b1-d4c0-28597bbe58a8"
      },
      "execution_count": 36,
      "outputs": [
        {
          "output_type": "stream",
          "name": "stdout",
          "text": [
            "❌ No reviews found for meta\n"
          ]
        }
      ]
    },
    {
      "cell_type": "markdown",
      "source": [
        "# Show INFO for any company already scraped"
      ],
      "metadata": {
        "id": "yh_GxniGwcy1"
      }
    },
    {
      "cell_type": "code",
      "source": [
        "import json\n",
        "import os\n",
        "\n",
        "base_path = \"/content/drive/MyDrive/auto_analyst_data\"\n",
        "\n",
        "def load_json(path):\n",
        "    with open(path) as f:\n",
        "        return json.load(f)\n",
        "\n",
        "def show_company(company):\n",
        "    print(f\"\\n📦 {company}\\n\")\n",
        "\n",
        "    # Wikipedia\n",
        "    wiki_path = os.path.join(base_path, \"raw/wikipedia\", f\"{company}.json\")\n",
        "    if os.path.exists(wiki_path):\n",
        "        wiki = load_json(wiki_path)\n",
        "        print(\"📝 Wikipedia Summary:\")\n",
        "        print(wiki.get(\"summary\", \"No summary found.\"), \"\\n\")\n",
        "\n",
        "    # News\n",
        "    news_path = os.path.join(base_path, \"raw/news\", f\"{company}.json\")\n",
        "    if os.path.exists(news_path):\n",
        "        news = load_json(news_path)\n",
        "        print(\"🗞️ Recent News Headlines:\")\n",
        "        for article in news[:3]:  # show top 3 headlines\n",
        "            print(f\"- {article.get('title', 'No Title')}\")\n",
        "            print(f\"  {article.get('snippet', '')}\")\n",
        "            print(f\"  ↪ {article.get('url', '')}\\n\")\n",
        "\n",
        "    # Reviews\n",
        "    review_path = os.path.join(base_path, \"parsed/reviews\", f\"{company}.json\")\n",
        "    if os.path.exists(review_path):\n",
        "        reviews = load_json(review_path)\n",
        "        print(\"🧠 Real User Reviews:\")\n",
        "        for r in reviews[:3]:  # show top 3 reviews\n",
        "            print(f\"- {r.get('title', 'No Title')}: {r.get('content', 'No Content')}\")\n",
        "    else:\n",
        "        print(\"⚠️ No reviews found.\")\n",
        "\n"
      ],
      "metadata": {
        "id": "s9Z5AKxAtbPR"
      },
      "execution_count": 38,
      "outputs": []
    },
    {
      "cell_type": "code",
      "source": [
        "show_company(\"OpenAI\")"
      ],
      "metadata": {
        "colab": {
          "base_uri": "https://localhost:8080/"
        },
        "id": "u6K8NtA8tm_l",
        "outputId": "1acaeb7d-57f6-4cf3-ed7d-3025a3b60c91"
      },
      "execution_count": 40,
      "outputs": [
        {
          "output_type": "stream",
          "name": "stdout",
          "text": [
            "\n",
            "📦 OpenAI\n",
            "\n",
            "📝 Wikipedia Summary:\n",
            "OpenAI, Inc. is an American artificial intelligence (AI) research organization founded in December 2015 and headquartered in San Francisco, California. It aims to develop \"safe and beneficial\" artificial general intelligence (AGI), which it defines as \"highly autonomous systems that outperform humans at most economically valuable work\".[5] As a leading organization in the ongoing AI boom,[6] OpenAI is known for the GPT family of large language models, the DALL-E series of text-to-image models, and a text-to-video model named Sora.[7][8] Its release of ChatGPT in November 2022 has been credited with catalyzing widespread interest in generative AI. \n",
            "\n",
            "🗞️ Recent News Headlines:\n",
            "- Exclusive: Alphabet, Nvidia invest in OpenAI co-founder Sutskever's SSI, source says - Reuters\n",
            "  \n",
            "  ↪ https://news.google.com/rss/articles/CBMi1AFBVV95cUxQbmdtSlVoMDF4Q2J1N2wySk9pUHdTTVhVSkdxZW5CV0YxZUdWN0tFb1MxSjBPQWU5eFZZb3VjZGU0YldkcEVOZGdTWUJqRnhwSnhUZmtoOGZSd2Q5VjNXWXdQXzNqclBqMmd1aW9OMjhZMWQyRWNySVZBXy1xQy1hY1ZzaFlXWUw1eG9OZmlhWWVUZ3luaGlrUXI0LUJGZFdCNE9lVnRCMnNKT1JoVVZtd2NxYllIOGF5NFJFRjYzNkNpWXZlNFhqYThnM0xoMC1EbnFiZQ?oc=5&hl=en-US&gl=US&ceid=US:en\n",
            "\n",
            "- OpenAI co-founder Ilya Sutskever’s Safe Superintelligence reportedly valued at $32B - TechCrunch\n",
            "  \n",
            "  ↪ https://news.google.com/rss/articles/CBMitwFBVV95cUxONWNDNnF6UFBjMURTaHVMa2hmQ2ZfcldQWk12NlFKYVZYNDQ1SmxBLUFnOVBIYkx1c2hoeVRaa0VQUjR0YVdtRkhhOWxPMW9mTmVDNDg2ck5aTlptQlh3d25INENvMzJ4UXdtNmQ5N0pZVE1IRjZFQ0RCT3cxamZFVVdzaHZrQmRZekUzcGNjVXJacFpYU2hUdkhlQkJOdk5WbXlXR1ZHSTlZa2dLaU9IblBzYUFWeXc?oc=5&hl=en-US&gl=US&ceid=US:en\n",
            "\n",
            "- OpenAI co-founder Ilya Sutskever’s new venture SSI valued at $32bn - Financial Times\n",
            "  \n",
            "  ↪ https://news.google.com/rss/articles/CBMicEFVX3lxTE8zeWRLZW5OREg5MW02WmZzcTRtOTVqa0RUTmloWXZxN2FCZTJxYWkyVG9GcUtyRzFqN09HaTlFNDZpMnRucXVjT2xncXhQYWwzRDA3R2VRR3hlQWtaUFh5NlRkdzBLUEVrU3NFWVBidWw?oc=5&hl=en-US&gl=US&ceid=US:en\n",
            "\n",
            "⚠️ No reviews found.\n"
          ]
        }
      ]
    },
    {
      "cell_type": "code",
      "source": [
        "show_company(\"Google\")"
      ],
      "metadata": {
        "colab": {
          "base_uri": "https://localhost:8080/"
        },
        "id": "v2bl_fjEwkgF",
        "outputId": "436d4148-1ef3-4113-add6-f39eaa9bc6c1"
      },
      "execution_count": 39,
      "outputs": [
        {
          "output_type": "stream",
          "name": "stdout",
          "text": [
            "\n",
            "📦 Google\n",
            "\n",
            "📝 Wikipedia Summary:\n",
            "Google LLC (/ˈɡuːɡəl/ ⓘ, GOO-gəl) is an American multinational corporation and technology company focusing on online advertising, search engine technology, cloud computing, computer software, quantum computing, e-commerce, consumer electronics, and artificial intelligence (AI).[9] It has been referred to as \"the most powerful company in the world\" by the BBC[10] and is one of the world's most valuable brands due to its market dominance, data collection, and technological advantages in the field of AI.[11][12][13] Alongside Amazon, Apple, Meta, and Microsoft, Google's parent company, Alphabet Inc. is one of the five Big Tech companies. \n",
            "\n",
            "🗞️ Recent News Headlines:\n",
            "- Google lays off hundreds of employees in Android, Pixel teams, The Information reports - Reuters\n",
            "  \n",
            "  ↪ https://news.google.com/rss/articles/CBMivgFBVV95cUxQNzJhZWpCcl9Rd1VRQi1zbl9BTVJWZTE3dEtZcDdOV0ZfZ1BkMC1sZDVNZV9ub3FrUGU1aUl3cXRtMzY5REhaSWlhLVhWcFJscDZQalBidllEUzdlZnVCcEc1SzhacTNyTWJxWmszTmlsS1h2dTBjUzJGaVlKanZMWHZ2MC1ub3VhNmxwVFEyZ3RZc19Mb0xnM1ByWmhLN2c1Q0dRb1h6XzVrcF9GZGVHZXJsOHA4b1FrWVNEX01n?oc=5&hl=en-US&gl=US&ceid=US:en\n",
            "\n",
            "- Amid layoffs at Google, tech giant makes big announcement to spend Rs 622500 crore for..., set to affect ... - India.Com\n",
            "  \n",
            "  ↪ https://news.google.com/rss/articles/CBMipgJBVV95cUxPR2Ztbml0ZTBmd19XNWFyM1ZtUTBYX1lVWWpKUUt2ZmdWUjcxcThaekhfbjhOcHR0NUxUbEJSc1ljRU5jeEI4SlpHQS14WjdBMFUxNFNOWHdQVVd4MDVHUHlWMGYyXy01ejRqUmJfb2JPRUt5RlFjRXE2NklHSm1HenAyNDd0dlNtalZaTWVqSzY2ZElqY3FDYmstUDNyR3luRlo3QVY1dVQ4SEdET09WQUduQ2lKdWZjQlZ0TWxpRUxoaDRlckwzU3h4M05zNjltQU1YTkk0QlRKc0Fnb2ZPR2xhTEdVZW5pbHZ3Q3pxRnNsU3FZRmEwbHRTQWdpLXMyZ21KcjlNQk9OVng0NmZnZExLRzVpUmpfRTctZUdpWF95Mm9OUUHSAasCQVVfeXFMTkVVdXc2YllQUjg2Q2cxbktGMVZEOGNRS1JRY3JELVZLUUZTNm9aMGVOSDZ1OUctU2NOYm0wNUgwSWRlNkt0SlBEc3hxMGNiVTFzajVvWWNEN01aS21nelNtX0lmZmNldjJjUmw0UnBnY1F3dFVhUDhGb1g3NUtXVnhWY3g5SDVScUJUd1BJUW1SNEJqSDNKQlVDTUZMdGdiNXdYdHptY1RicmZQSFhXRFpueExGTm5EUjk0T3dEd2RnWEViVXA4dV9VMmFKMnB5RFdjTlJkTVpFSVV3ZnJGaXQxZFFXbUdxbUJ4YUxlNlJtNTItdkVDT3U4NFlvVndFZFhKOHo2MENEeTVrbHhCTE9LbXNkQmJudE9FdVV0OFpGYTNRQ1YyT1c3X0k?oc=5&hl=en-US&gl=US&ceid=US:en\n",
            "\n",
            "- Google layoffs impact hundreds in Pixel, Android division - 9to5Google\n",
            "  \n",
            "  ↪ https://news.google.com/rss/articles/CBMicEFVX3lxTFBGZ0dDaG9TdHpLSVR5TmtDdXNBRGZUa0N3dUpKbG1VajkwUk0teG9zbUtpNngtZDJtUjRVZWRpbWxGUlAzRFl3ZUx1eWtJa05NYl84NWREaFFHeW5jdmZ5V05CazJxX3dhVkRVWFVfMmU?oc=5&hl=en-US&gl=US&ceid=US:en\n",
            "\n",
            "🧠 Real User Reviews:\n",
            "-  Software Engineer: Pros: I work w/ a diverse set of people. You have have great people within the company w/o a lot of micromanagement. You have the freedom to do a job w/o contantly being checked on. | Cons: Google can be a bit overwhelming w/ the volume of things that you have to learn. It can also be chaotic because you do have freedom but so much is always going on at the same time.\n",
            "-  Software Engineer: Pros: People are willing to share knowledge which is not the norm in this industry. This is the first place I have worked where the people are great about that. Also, I get to work on cool projects that no one else in the world works on. | Cons: A company like this requires a lot of long hours, so the work and life balance is often hard to come by.\n",
            "-  Software Engineer: Pros: To repeat what I wrote before, the people I work for and work with here are very smart and confident people. | Cons: Sometimes being that it is such a big company it is sometimes hard to be heard when you need to voice concerns or comments.\n"
          ]
        }
      ]
    },
    {
      "cell_type": "code",
      "source": [
        "show_company(\"AFH-Wealth-Management\")"
      ],
      "metadata": {
        "colab": {
          "base_uri": "https://localhost:8080/"
        },
        "id": "D6_CQZPhwq8D",
        "outputId": "9a2da59a-544e-4f28-86fe-edbb4ae24e3f"
      },
      "execution_count": 41,
      "outputs": [
        {
          "output_type": "stream",
          "name": "stdout",
          "text": [
            "\n",
            "📦 AFH-Wealth-Management\n",
            "\n",
            "⚠️ No reviews found.\n"
          ]
        }
      ]
    },
    {
      "cell_type": "code",
      "source": [],
      "metadata": {
        "id": "aTvwNaxB0a4q"
      },
      "execution_count": null,
      "outputs": []
    }
  ]
}