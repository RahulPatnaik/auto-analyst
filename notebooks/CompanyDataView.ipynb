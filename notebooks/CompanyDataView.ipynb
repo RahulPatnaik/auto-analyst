{
 "cells": [
  {
   "cell_type": "code",
   "execution_count": null,
   "id": "9f3f05e6",
   "metadata": {
    "vscode": {
     "languageId": "plaintext"
    }
   },
   "outputs": [],
   "source": [
    "import json\n",
    "import os\n",
    "\n",
    "base_path = \"/content/drive/MyDrive/auto_analyst_data\"\n",
    "\n",
    "def load_json(path):\n",
    "    with open(path) as f:\n",
    "        return json.load(f)\n",
    "\n",
    "def show_company(company):\n",
    "    print(f\"\\n📦 {company}\\n\")\n",
    "\n",
    "    # Wikipedia\n",
    "    wiki_path = os.path.join(base_path, \"raw/wikipedia\", f\"{company}.json\")\n",
    "    if os.path.exists(wiki_path):\n",
    "        wiki = load_json(wiki_path)\n",
    "        print(\"📝 Wikipedia Summary:\")\n",
    "        print(wiki.get(\"summary\", \"No summary found.\"), \"\\n\")\n",
    "\n",
    "    # News\n",
    "    news_path = os.path.join(base_path, \"raw/news\", f\"{company}.json\")\n",
    "    if os.path.exists(news_path):\n",
    "        news = load_json(news_path)\n",
    "        print(\"🗞️ Recent News Headlines:\")\n",
    "        for article in news[:3]:  # show top 3 headlines\n",
    "            print(f\"- {article.get('title', 'No Title')}\")\n",
    "            print(f\"  {article.get('snippet', '')}\")\n",
    "            print(f\"  ↪ {article.get('url', '')}\\n\")\n",
    "\n",
    "    # Reviews\n",
    "    review_path = os.path.join(base_path, \"parsed/reviews\", f\"{company}.json\")\n",
    "    if os.path.exists(review_path):\n",
    "        reviews = load_json(review_path)\n",
    "        print(\"🧠 Real User Reviews:\")\n",
    "        for r in reviews[:3]:  # show top 3 reviews\n",
    "            print(f\"- {r.get('title', 'No Title')}: {r.get('content', 'No Content')}\")\n",
    "    else:\n",
    "        print(\"⚠️ No reviews found.\")\n",
    "\n"
   ]
  }
 ],
 "metadata": {
  "language_info": {
   "name": "python"
  }
 },
 "nbformat": 4,
 "nbformat_minor": 5
}
